{
  "nbformat": 4,
  "nbformat_minor": 0,
  "metadata": {
    "colab": {
      "name": "admissiom prediction",
      "provenance": [],
      "collapsed_sections": [],
      "toc_visible": true
    },
    "kernelspec": {
      "name": "python3",
      "display_name": "Python 3"
    }
  },
  "cells": [
    {
      "cell_type": "markdown",
      "metadata": {
        "id": "RNcIwHoO91lp",
        "colab_type": "text"
      },
      "source": [
        "# Importing libraries"
      ]
    },
    {
      "cell_type": "code",
      "metadata": {
        "id": "87Gi-nAM-HAt",
        "colab_type": "code",
        "colab": {}
      },
      "source": [
        "import numpy as np\n",
        "import pandas as pd\n",
        "from google.colab import files"
      ],
      "execution_count": null,
      "outputs": []
    },
    {
      "cell_type": "markdown",
      "metadata": {
        "id": "_2ymUSD_MLg0",
        "colab_type": "text"
      },
      "source": [
        ""
      ]
    },
    {
      "cell_type": "markdown",
      "metadata": {
        "id": "-SN5EfcRMLzU",
        "colab_type": "text"
      },
      "source": [
        "# Uploading dataset in the form of csv"
      ]
    },
    {
      "cell_type": "code",
      "metadata": {
        "id": "njkVn4zY_BNL",
        "colab_type": "code",
        "colab": {
          "resources": {
            "http://localhost:8080/nbextensions/google.colab/files.js": {
              "data": "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",
              "ok": true,
              "headers": [
                [
                  "content-type",
                  "application/javascript"
                ]
              ],
              "status": 200,
              "status_text": ""
            }
          },
          "base_uri": "https://localhost:8080/",
          "height": 109
        },
        "outputId": "266b7089-e27b-4d68-87f3-fafa855e47aa"
      },
      "source": [
        "upload=files.upload()\n",
        "upload"
      ],
      "execution_count": null,
      "outputs": [
        {
          "output_type": "display_data",
          "data": {
            "text/html": [
              "\n",
              "     <input type=\"file\" id=\"files-964b1961-e8b0-496e-9776-8368b164626c\" name=\"files[]\" multiple disabled\n",
              "        style=\"border:none\" />\n",
              "     <output id=\"result-964b1961-e8b0-496e-9776-8368b164626c\">\n",
              "      Upload widget is only available when the cell has been executed in the\n",
              "      current browser session. Please rerun this cell to enable.\n",
              "      </output>\n",
              "      <script src=\"/nbextensions/google.colab/files.js\"></script> "
            ],
            "text/plain": [
              "<IPython.core.display.HTML object>"
            ]
          },
          "metadata": {
            "tags": []
          }
        },
        {
          "output_type": "stream",
          "text": [
            "Saving Admission1.csv to Admission1.csv\n"
          ],
          "name": "stdout"
        },
        {
          "output_type": "execute_result",
          "data": {
            "text/plain": [
              "{'Admission1.csv': b'admit,gre,gpa,ses,Gender_Male,Race,rank\\r\\n0,380,3.61,1,0,3,3\\r\\n1,660,3.67,2,0,2,3\\r\\n1,800,4,2,0,2,1\\r\\n1,640,3.19,1,1,2,4\\r\\n0,520,2.93,3,1,2,4\\r\\n1,760,3,2,1,1,2\\r\\n1,560,2.98,2,1,2,1\\r\\n0,400,3.08,2,0,2,2\\r\\n1,540,3.39,1,1,1,3\\r\\n0,700,3.92,1,0,2,2\\r\\n0,800,4,1,1,1,4\\r\\n0,440,3.22,3,0,2,1\\r\\n1,760,4,3,1,2,1\\r\\n0,700,3.08,2,0,2,2\\r\\n1,700,4,2,1,1,1\\r\\n0,480,3.44,3,0,1,3\\r\\n0,780,3.87,2,0,3,4\\r\\n0,360,2.56,3,1,3,3\\r\\n0,800,3.75,1,1,3,2\\r\\n1,540,3.81,1,0,3,1\\r\\n0,500,3.17,3,0,2,3\\r\\n1,660,3.63,1,0,1,2\\r\\n0,600,2.82,1,0,3,4\\r\\n0,680,3.19,1,0,1,4\\r\\n1,760,3.35,2,0,2,2\\r\\n1,800,3.66,2,1,1,1\\r\\n1,620,3.61,2,0,1,1\\r\\n1,520,3.74,2,0,3,4\\r\\n1,780,3.22,1,0,1,2\\r\\n0,520,3.29,1,0,1,1\\r\\n0,540,3.78,1,1,1,4\\r\\n0,760,3.35,2,1,1,3\\r\\n0,600,3.4,3,0,1,3\\r\\n1,800,4,3,0,1,3\\r\\n0,360,3.14,1,1,2,1\\r\\n0,400,3.05,3,0,2,2\\r\\n0,580,3.25,1,0,2,1\\r\\n0,520,2.9,2,0,2,3\\r\\n1,500,3.13,2,0,2,2\\r\\n1,520,2.68,2,0,1,3\\r\\n0,560,2.42,1,1,3,2\\r\\n1,580,3.32,1,0,1,2\\r\\n1,600,3.15,2,1,1,2\\r\\n0,500,3.31,2,0,2,3\\r\\n0,700,2.94,1,0,3,2\\r\\n1,460,3.45,2,1,3,3\\r\\n1,580,3.46,3,1,1,2\\r\\n0,500,2.97,3,0,2,4\\r\\n0,440,2.48,3,0,3,4\\r\\n0,400,3.35,3,0,1,3\\r\\n0,640,3.86,2,1,3,3\\r\\n0,440,3.13,2,0,2,4\\r\\n0,740,3.37,2,1,3,4\\r\\n1,680,3.27,2,0,2,2\\r\\n0,660,3.34,1,0,1,3\\r\\n1,740,4,1,1,2,3\\r\\n0,560,3.19,3,1,1,3\\r\\n0,380,2.94,3,0,2,3\\r\\n0,400,3.65,3,1,2,2\\r\\n0,600,2.82,3,1,1,4\\r\\n1,620,3.18,2,1,1,2\\r\\n0,560,3.32,1,0,3,4\\r\\n0,640,3.67,1,1,2,3\\r\\n1,680,3.85,1,1,3,3\\r\\n0,580,4,2,1,3,3\\r\\n0,600,3.59,1,0,1,2\\r\\n0,740,3.62,3,1,2,4\\r\\n0,620,3.3,2,1,3,1\\r\\n0,580,3.69,3,0,3,1\\r\\n0,800,3.73,1,1,1,1\\r\\n0,640,4,1,1,1,3\\r\\n0,300,2.92,1,1,1,4\\r\\n0,480,3.39,2,0,2,4\\r\\n0,580,4,3,0,3,2\\r\\n0,720,3.45,2,1,2,4\\r\\n0,720,4,2,0,3,3\\r\\n0,560,3.36,1,1,2,3\\r\\n1,800,4,3,0,3,3\\r\\n0,540,3.12,3,1,2,1\\r\\n1,620,4,2,0,2,1\\r\\n0,700,2.9,2,0,2,4\\r\\n0,620,3.07,3,1,2,2\\r\\n0,500,2.71,2,0,3,2\\r\\n0,380,2.91,3,1,2,4\\r\\n1,500,3.6,1,1,1,3\\r\\n0,520,2.98,2,0,2,2\\r\\n0,600,3.32,1,0,3,2\\r\\n0,600,3.48,1,0,1,2\\r\\n0,700,3.28,3,0,3,1\\r\\n1,660,4,1,1,1,2\\r\\n0,700,3.83,2,0,2,2\\r\\n1,720,3.64,2,0,2,1\\r\\n0,800,3.9,3,1,1,2\\r\\n0,580,2.93,3,1,1,2\\r\\n1,660,3.44,2,0,3,2\\r\\n0,660,3.33,2,1,3,2\\r\\n0,640,3.52,2,1,3,4\\r\\n0,480,3.57,3,1,2,2\\r\\n0,700,2.88,2,1,3,2\\r\\n0,400,3.31,3,1,2,3\\r\\n0,340,3.15,2,0,1,3\\r\\n0,580,3.57,1,1,2,3\\r\\n0,380,3.33,3,0,3,4\\r\\n0,540,3.94,3,0,1,3\\r\\n1,660,3.95,2,1,1,2\\r\\n1,740,2.97,1,1,1,2\\r\\n1,700,3.56,1,1,2,1\\r\\n0,480,3.13,2,0,1,2\\r\\n0,400,2.93,1,1,3,3\\r\\n0,480,3.45,3,0,1,2\\r\\n0,680,3.08,3,0,3,4\\r\\n0,420,3.41,2,1,3,4\\r\\n0,360,3,1,0,1,3\\r\\n0,600,3.22,3,1,2,1\\r\\n0,720,3.84,1,1,2,3\\r\\n0,620,3.99,2,1,2,3\\r\\n1,440,3.45,1,1,3,2\\r\\n0,700,3.72,2,1,2,2\\r\\n1,800,3.7,1,0,2,1\\r\\n0,340,2.92,3,1,2,3\\r\\n1,520,3.74,2,0,2,2\\r\\n1,480,2.67,1,0,1,2\\r\\n0,520,2.85,3,0,1,3\\r\\n0,500,2.98,3,0,2,3\\r\\n0,720,3.88,2,0,3,3\\r\\n0,540,3.38,3,0,3,4\\r\\n1,600,3.54,3,0,3,1\\r\\n0,740,3.74,1,0,3,4\\r\\n0,540,3.19,1,1,3,2\\r\\n0,460,3.15,3,0,2,4\\r\\n1,620,3.17,1,0,3,2\\r\\n0,640,2.79,3,1,1,2\\r\\n0,580,3.4,3,0,1,2\\r\\n0,500,3.08,2,1,2,3\\r\\n0,560,2.95,3,1,1,2\\r\\n0,500,3.57,2,1,3,3\\r\\n0,560,3.33,3,1,2,4\\r\\n0,700,4,3,1,1,3\\r\\n0,620,3.4,3,0,1,2\\r\\n1,600,3.58,3,0,3,1\\r\\n0,640,3.93,2,1,2,2\\r\\n1,700,3.52,2,0,1,4\\r\\n0,620,3.94,3,0,2,4\\r\\n0,580,3.4,2,1,3,3\\r\\n0,580,3.4,1,1,1,4\\r\\n0,380,3.43,2,0,1,3\\r\\n0,480,3.4,1,1,3,2\\r\\n0,560,2.71,3,1,1,3\\r\\n1,480,2.91,3,1,1,1\\r\\n0,740,3.31,3,0,1,1\\r\\n1,800,3.74,3,0,1,1\\r\\n0,400,3.38,2,1,1,2\\r\\n1,640,3.94,3,1,1,2\\r\\n0,580,3.46,3,1,1,3\\r\\n0,620,3.69,3,0,1,3\\r\\n1,580,2.86,3,1,1,4\\r\\n0,560,2.52,3,0,3,2\\r\\n1,480,3.58,1,1,1,1\\r\\n0,660,3.49,2,0,3,2\\r\\n0,700,3.82,2,1,1,3\\r\\n0,600,3.13,1,1,1,2\\r\\n0,640,3.5,2,0,1,2\\r\\n1,700,3.56,3,1,2,2\\r\\n0,520,2.73,1,0,1,2\\r\\n0,580,3.3,1,0,3,2\\r\\n0,700,4,2,1,3,1\\r\\n0,440,3.24,3,1,3,4\\r\\n0,720,3.77,3,0,2,3\\r\\n0,500,4,3,0,2,3\\r\\n0,600,3.62,1,1,3,3\\r\\n0,400,3.51,3,1,1,3\\r\\n0,540,2.81,3,0,1,3\\r\\n0,680,3.48,3,0,3,3\\r\\n1,800,3.43,1,0,3,2\\r\\n0,500,3.53,1,1,1,4\\r\\n1,620,3.37,3,1,1,2\\r\\n0,520,2.62,1,1,2,2\\r\\n1,620,3.23,3,1,2,3\\r\\n0,620,3.33,3,0,3,3\\r\\n0,300,3.01,2,0,1,3\\r\\n0,620,3.78,3,0,2,3\\r\\n0,500,3.88,1,0,2,4\\r\\n0,700,4,1,1,3,2\\r\\n1,540,3.84,1,0,3,2\\r\\n0,500,2.79,1,0,2,4\\r\\n0,800,3.6,1,1,2,2\\r\\n0,560,3.61,2,0,3,3\\r\\n0,580,2.88,3,1,3,2\\r\\n0,560,3.07,2,1,2,2\\r\\n0,500,3.35,2,1,3,2\\r\\n1,640,2.94,1,0,2,2\\r\\n0,800,3.54,1,0,2,3\\r\\n0,640,3.76,2,0,2,3\\r\\n0,380,3.59,1,1,1,4\\r\\n1,600,3.47,1,0,2,2\\r\\n0,560,3.59,1,1,1,2\\r\\n0,660,3.07,1,0,3,3\\r\\n1,400,3.23,1,0,3,4\\r\\n0,600,3.63,2,0,3,3\\r\\n0,580,3.77,3,1,2,4\\r\\n0,800,3.31,1,0,3,3\\r\\n1,580,3.2,2,0,2,2\\r\\n1,700,4,3,0,3,1\\r\\n0,420,3.92,1,0,3,4\\r\\n1,600,3.89,1,0,2,1\\r\\n1,780,3.8,3,0,2,3\\r\\n0,740,3.54,2,0,1,1\\r\\n1,640,3.63,3,1,1,1\\r\\n0,540,3.16,3,0,2,3\\r\\n0,580,3.5,3,0,1,2\\r\\n0,740,3.34,2,0,2,4\\r\\n0,580,3.02,3,1,2,2\\r\\n0,460,2.87,1,0,3,2\\r\\n0,640,3.38,1,0,1,3\\r\\n1,600,3.56,3,0,1,2\\r\\n1,660,2.91,2,0,2,3\\r\\n0,340,2.9,1,0,1,1\\r\\n1,460,3.64,3,1,3,1\\r\\n0,460,2.98,2,1,3,1\\r\\n1,560,3.59,2,0,2,2\\r\\n0,540,3.28,2,1,2,3\\r\\n0,680,3.99,2,1,3,3\\r\\n1,480,3.02,1,0,3,1\\r\\n0,800,3.47,1,0,3,3\\r\\n0,800,2.9,2,1,2,2\\r\\n1,720,3.5,1,0,1,3\\r\\n0,620,3.58,1,0,2,2\\r\\n0,540,3.02,3,0,1,4\\r\\n0,480,3.43,1,0,1,2\\r\\n1,720,3.42,3,0,2,2\\r\\n0,580,3.29,1,1,3,4\\r\\n0,600,3.28,1,1,2,3\\r\\n0,380,3.38,1,0,3,2\\r\\n0,420,2.67,3,1,3,3\\r\\n1,800,3.53,3,0,1,1\\r\\n0,620,3.05,2,1,1,2\\r\\n1,660,3.49,2,1,1,2\\r\\n0,480,4,2,1,2,2\\r\\n0,500,2.86,1,0,2,4\\r\\n0,700,3.45,2,0,2,3\\r\\n0,440,2.76,2,0,3,2\\r\\n1,520,3.81,2,0,2,1\\r\\n1,680,2.96,2,1,1,3\\r\\n0,620,3.22,3,0,3,2\\r\\n0,540,3.04,1,1,1,1\\r\\n0,800,3.91,3,1,2,3\\r\\n0,680,3.34,3,0,1,2\\r\\n0,440,3.17,3,0,3,2\\r\\n0,680,3.64,2,1,3,3\\r\\n0,640,3.73,2,1,1,3\\r\\n0,660,3.31,2,1,2,4\\r\\n0,620,3.21,1,0,3,4\\r\\n1,520,4,2,1,1,2\\r\\n1,540,3.55,3,1,3,4\\r\\n1,740,3.52,2,0,1,4\\r\\n0,640,3.35,1,0,2,3\\r\\n1,520,3.3,1,0,1,2\\r\\n1,620,3.95,1,0,1,3\\r\\n0,520,3.51,2,1,1,2\\r\\n0,640,3.81,2,1,3,2\\r\\n0,680,3.11,2,1,1,2\\r\\n0,440,3.15,1,1,3,2\\r\\n1,520,3.19,1,1,1,3\\r\\n1,620,3.95,3,0,3,3\\r\\n1,520,3.9,2,1,3,3\\r\\n0,380,3.34,3,0,2,3\\r\\n0,560,3.24,2,1,1,4\\r\\n1,600,3.64,1,0,3,3\\r\\n1,680,3.46,2,0,3,2\\r\\n0,500,2.81,3,1,3,3\\r\\n1,640,3.95,3,1,3,2\\r\\n0,540,3.33,3,1,1,3\\r\\n1,680,3.67,3,0,3,2\\r\\n0,660,3.32,1,1,2,1\\r\\n0,520,3.12,3,0,1,2\\r\\n1,600,2.98,1,1,2,2\\r\\n0,460,3.77,2,0,3,3\\r\\n1,580,3.58,3,1,2,1\\r\\n1,680,3,2,1,1,4\\r\\n1,660,3.14,2,1,2,2\\r\\n0,660,3.94,2,1,1,2\\r\\n0,360,3.27,1,1,3,3\\r\\n0,660,3.45,3,0,2,4\\r\\n0,520,3.1,2,1,2,4\\r\\n1,440,3.39,3,0,3,2\\r\\n0,600,3.31,2,1,3,4\\r\\n1,800,3.22,1,1,3,1\\r\\n1,660,3.7,1,1,1,4\\r\\n0,800,3.15,2,1,1,4\\r\\n0,420,2.26,2,1,2,4\\r\\n1,620,3.45,3,0,3,2\\r\\n0,800,2.78,1,0,2,2\\r\\n0,680,3.7,2,1,1,2\\r\\n0,800,3.97,2,0,1,1\\r\\n0,480,2.55,2,0,2,1\\r\\n0,520,3.25,2,0,1,3\\r\\n0,560,3.16,3,0,2,1\\r\\n0,460,3.07,2,0,2,2\\r\\n0,540,3.5,2,1,3,2\\r\\n0,720,3.4,2,0,1,3\\r\\n0,640,3.3,2,1,3,2\\r\\n1,660,3.6,2,0,1,3\\r\\n1,400,3.15,3,0,3,2\\r\\n1,680,3.98,3,1,1,2\\r\\n0,220,2.83,1,1,3,3\\r\\n0,580,3.46,1,0,1,4\\r\\n1,540,3.17,1,0,1,1\\r\\n0,580,3.51,1,1,1,2\\r\\n0,540,3.13,2,1,3,2\\r\\n0,440,2.98,2,0,3,3\\r\\n0,560,4,1,0,3,3\\r\\n0,660,3.67,2,0,1,2\\r\\n0,660,3.77,2,0,3,3\\r\\n1,520,3.65,2,1,2,4\\r\\n0,540,3.46,1,0,3,4\\r\\n1,300,2.84,3,1,1,2\\r\\n1,340,3,2,0,3,2\\r\\n1,780,3.63,1,1,1,4\\r\\n1,480,3.71,2,1,1,4\\r\\n0,540,3.28,1,1,3,1\\r\\n0,460,3.14,1,0,2,3\\r\\n0,460,3.58,2,0,1,2\\r\\n0,500,3.01,1,1,2,4\\r\\n0,420,2.69,2,1,1,2\\r\\n0,520,2.7,1,1,1,3\\r\\n0,680,3.9,3,1,2,1\\r\\n0,680,3.31,3,0,2,2\\r\\n1,560,3.48,1,1,3,2\\r\\n0,580,3.34,1,0,1,2\\r\\n0,500,2.93,2,0,2,4\\r\\n0,740,4,2,0,1,3\\r\\n0,660,3.59,1,0,3,3\\r\\n0,420,2.96,2,1,2,1\\r\\n0,560,3.43,2,0,2,3\\r\\n1,460,3.64,2,0,3,3\\r\\n1,620,3.71,3,0,1,1\\r\\n0,520,3.15,1,0,3,3\\r\\n0,620,3.09,3,0,2,4\\r\\n0,540,3.2,2,1,1,1\\r\\n1,660,3.47,2,1,2,3\\r\\n0,500,3.23,3,0,1,4\\r\\n1,560,2.65,1,0,3,3\\r\\n0,500,3.95,2,0,1,4\\r\\n0,580,3.06,1,1,1,2\\r\\n0,520,3.35,3,0,2,3\\r\\n0,500,3.03,2,0,2,3\\r\\n0,600,3.35,3,1,1,2\\r\\n0,580,3.8,1,1,3,2\\r\\n0,400,3.36,3,0,1,2\\r\\n0,620,2.85,1,0,2,2\\r\\n1,780,4,3,1,3,2\\r\\n0,620,3.43,3,0,2,3\\r\\n1,580,3.12,1,0,2,3\\r\\n0,700,3.52,3,0,3,2\\r\\n1,540,3.78,1,0,3,2\\r\\n1,760,2.81,2,1,2,1\\r\\n0,700,3.27,2,0,2,2\\r\\n0,720,3.31,3,1,2,1\\r\\n1,560,3.69,1,0,3,3\\r\\n0,720,3.94,3,1,3,3\\r\\n1,520,4,1,0,1,1\\r\\n1,540,3.49,1,1,3,1\\r\\n0,680,3.14,1,1,1,2\\r\\n0,460,3.44,2,1,3,2\\r\\n1,560,3.36,1,0,1,1\\r\\n0,480,2.78,3,0,1,3\\r\\n0,460,2.93,1,1,1,3\\r\\n0,620,3.63,2,1,2,3\\r\\n0,580,4,1,0,2,1\\r\\n0,800,3.89,3,0,1,2\\r\\n1,540,3.77,3,0,1,2\\r\\n1,680,3.76,1,1,2,3\\r\\n1,680,2.42,1,1,1,1\\r\\n1,620,3.37,3,1,1,1\\r\\n0,560,3.78,1,1,3,2\\r\\n0,560,3.49,3,0,1,4\\r\\n0,620,3.63,3,1,2,2\\r\\n1,800,4,2,0,3,2\\r\\n0,640,3.12,2,1,1,3\\r\\n0,540,2.7,2,1,1,2\\r\\n0,700,3.65,1,0,3,2\\r\\n1,540,3.49,3,1,1,2\\r\\n0,540,3.51,3,1,3,2\\r\\n0,660,4,1,1,3,1\\r\\n1,480,2.62,2,1,1,2\\r\\n0,420,3.02,1,1,3,1\\r\\n1,740,3.86,3,0,2,2\\r\\n0,580,3.36,3,1,2,2\\r\\n0,640,3.17,2,0,2,2\\r\\n0,640,3.51,3,1,3,2\\r\\n1,800,3.05,1,1,3,2\\r\\n1,660,3.88,1,0,1,2\\r\\n1,600,3.38,3,0,3,3\\r\\n1,620,3.75,2,0,2,2\\r\\n1,460,3.99,3,1,3,3\\r\\n0,620,4,2,0,2,2\\r\\n0,560,3.04,2,0,1,3\\r\\n0,460,2.63,3,0,2,2\\r\\n0,700,3.65,1,1,1,2\\r\\n0,600,3.89,2,1,3,3\\r\\n'}"
            ]
          },
          "metadata": {
            "tags": []
          },
          "execution_count": 6
        }
      ]
    },
    {
      "cell_type": "code",
      "metadata": {
        "id": "BShoBZmE_4Du",
        "colab_type": "code",
        "colab": {}
      },
      "source": [
        "import io"
      ],
      "execution_count": null,
      "outputs": []
    },
    {
      "cell_type": "code",
      "metadata": {
        "id": "Maog5Q6nB80Z",
        "colab_type": "code",
        "colab": {}
      },
      "source": [
        "df=pd.read_csv(io.BytesIO(upload['Admission1.csv']))"
      ],
      "execution_count": null,
      "outputs": []
    },
    {
      "cell_type": "code",
      "metadata": {
        "id": "BKtxRtJECSaZ",
        "colab_type": "code",
        "colab": {
          "base_uri": "https://localhost:8080/",
          "height": 204
        },
        "outputId": "46cfeeed-f167-41af-af04-c6d294dd67db"
      },
      "source": [
        "df.head(5)"
      ],
      "execution_count": null,
      "outputs": [
        {
          "output_type": "execute_result",
          "data": {
            "text/html": [
              "<div>\n",
              "<style scoped>\n",
              "    .dataframe tbody tr th:only-of-type {\n",
              "        vertical-align: middle;\n",
              "    }\n",
              "\n",
              "    .dataframe tbody tr th {\n",
              "        vertical-align: top;\n",
              "    }\n",
              "\n",
              "    .dataframe thead th {\n",
              "        text-align: right;\n",
              "    }\n",
              "</style>\n",
              "<table border=\"1\" class=\"dataframe\">\n",
              "  <thead>\n",
              "    <tr style=\"text-align: right;\">\n",
              "      <th></th>\n",
              "      <th>admit</th>\n",
              "      <th>gre</th>\n",
              "      <th>gpa</th>\n",
              "      <th>ses</th>\n",
              "      <th>Gender_Male</th>\n",
              "      <th>Race</th>\n",
              "      <th>rank</th>\n",
              "    </tr>\n",
              "  </thead>\n",
              "  <tbody>\n",
              "    <tr>\n",
              "      <th>0</th>\n",
              "      <td>0</td>\n",
              "      <td>380</td>\n",
              "      <td>3.61</td>\n",
              "      <td>1</td>\n",
              "      <td>0</td>\n",
              "      <td>3</td>\n",
              "      <td>3</td>\n",
              "    </tr>\n",
              "    <tr>\n",
              "      <th>1</th>\n",
              "      <td>1</td>\n",
              "      <td>660</td>\n",
              "      <td>3.67</td>\n",
              "      <td>2</td>\n",
              "      <td>0</td>\n",
              "      <td>2</td>\n",
              "      <td>3</td>\n",
              "    </tr>\n",
              "    <tr>\n",
              "      <th>2</th>\n",
              "      <td>1</td>\n",
              "      <td>800</td>\n",
              "      <td>4.00</td>\n",
              "      <td>2</td>\n",
              "      <td>0</td>\n",
              "      <td>2</td>\n",
              "      <td>1</td>\n",
              "    </tr>\n",
              "    <tr>\n",
              "      <th>3</th>\n",
              "      <td>1</td>\n",
              "      <td>640</td>\n",
              "      <td>3.19</td>\n",
              "      <td>1</td>\n",
              "      <td>1</td>\n",
              "      <td>2</td>\n",
              "      <td>4</td>\n",
              "    </tr>\n",
              "    <tr>\n",
              "      <th>4</th>\n",
              "      <td>0</td>\n",
              "      <td>520</td>\n",
              "      <td>2.93</td>\n",
              "      <td>3</td>\n",
              "      <td>1</td>\n",
              "      <td>2</td>\n",
              "      <td>4</td>\n",
              "    </tr>\n",
              "  </tbody>\n",
              "</table>\n",
              "</div>"
            ],
            "text/plain": [
              "   admit  gre   gpa  ses  Gender_Male  Race  rank\n",
              "0      0  380  3.61    1            0     3     3\n",
              "1      1  660  3.67    2            0     2     3\n",
              "2      1  800  4.00    2            0     2     1\n",
              "3      1  640  3.19    1            1     2     4\n",
              "4      0  520  2.93    3            1     2     4"
            ]
          },
          "metadata": {
            "tags": []
          },
          "execution_count": 11
        }
      ]
    },
    {
      "cell_type": "code",
      "metadata": {
        "id": "padRgNCWCZ4I",
        "colab_type": "code",
        "colab": {
          "base_uri": "https://localhost:8080/",
          "height": 255
        },
        "outputId": "17cf732c-fe73-49d5-9027-76603cca8eb1"
      },
      "source": [
        "df.info()"
      ],
      "execution_count": null,
      "outputs": [
        {
          "output_type": "stream",
          "text": [
            "<class 'pandas.core.frame.DataFrame'>\n",
            "RangeIndex: 400 entries, 0 to 399\n",
            "Data columns (total 7 columns):\n",
            " #   Column       Non-Null Count  Dtype  \n",
            "---  ------       --------------  -----  \n",
            " 0   admit        400 non-null    int64  \n",
            " 1   gre          400 non-null    int64  \n",
            " 2   gpa          400 non-null    float64\n",
            " 3   ses          400 non-null    int64  \n",
            " 4   Gender_Male  400 non-null    int64  \n",
            " 5   Race         400 non-null    int64  \n",
            " 6   rank         400 non-null    int64  \n",
            "dtypes: float64(1), int64(6)\n",
            "memory usage: 22.0 KB\n"
          ],
          "name": "stdout"
        }
      ]
    },
    {
      "cell_type": "code",
      "metadata": {
        "id": "e4C_tFndCnfV",
        "colab_type": "code",
        "colab": {
          "base_uri": "https://localhost:8080/",
          "height": 153
        },
        "outputId": "2e70d05d-2c51-432b-ed91-23ca58efc1d3"
      },
      "source": [
        "df.isnull().sum()"
      ],
      "execution_count": null,
      "outputs": [
        {
          "output_type": "execute_result",
          "data": {
            "text/plain": [
              "admit          0\n",
              "gre            0\n",
              "gpa            0\n",
              "ses            0\n",
              "Gender_Male    0\n",
              "Race           0\n",
              "rank           0\n",
              "dtype: int64"
            ]
          },
          "metadata": {
            "tags": []
          },
          "execution_count": 13
        }
      ]
    },
    {
      "cell_type": "markdown",
      "metadata": {
        "id": "DqQojBjNMjnZ",
        "colab_type": "text"
      },
      "source": [
        "# Fill null values with mean"
      ]
    },
    {
      "cell_type": "code",
      "metadata": {
        "id": "bs4OzQJlIwWw",
        "colab_type": "code",
        "colab": {}
      },
      "source": [
        "for values in df:\n",
        "  df[values].fillna((df[values].mean()),inplace=True)"
      ],
      "execution_count": 36,
      "outputs": []
    },
    {
      "cell_type": "markdown",
      "metadata": {
        "id": "HZI1womKMxQo",
        "colab_type": "text"
      },
      "source": [
        "# Assigning x and y values"
      ]
    },
    {
      "cell_type": "code",
      "metadata": {
        "id": "iJYO3OsZCz2m",
        "colab_type": "code",
        "colab": {}
      },
      "source": [
        "x=df[:]\n"
      ],
      "execution_count": 37,
      "outputs": []
    },
    {
      "cell_type": "code",
      "metadata": {
        "id": "kmC2xGwODR3h",
        "colab_type": "code",
        "colab": {
          "base_uri": "https://localhost:8080/",
          "height": 122
        },
        "outputId": "ec50f038-e536-4233-99da-4128aba20045"
      },
      "source": [
        "x.drop('admit',axis=1,inplace=True)"
      ],
      "execution_count": 38,
      "outputs": [
        {
          "output_type": "stream",
          "text": [
            "/usr/local/lib/python3.6/dist-packages/pandas/core/frame.py:3997: SettingWithCopyWarning: \n",
            "A value is trying to be set on a copy of a slice from a DataFrame\n",
            "\n",
            "See the caveats in the documentation: https://pandas.pydata.org/pandas-docs/stable/user_guide/indexing.html#returning-a-view-versus-a-copy\n",
            "  errors=errors,\n"
          ],
          "name": "stderr"
        }
      ]
    },
    {
      "cell_type": "code",
      "metadata": {
        "id": "CdD27gRjHckk",
        "colab_type": "code",
        "colab": {}
      },
      "source": [
        "y=df['admit']"
      ],
      "execution_count": 39,
      "outputs": []
    },
    {
      "cell_type": "markdown",
      "metadata": {
        "id": "2QMVEqjvNFXd",
        "colab_type": "text"
      },
      "source": [
        "# Applying preprocessing"
      ]
    },
    {
      "cell_type": "code",
      "metadata": {
        "id": "4nWp-HtnCall",
        "colab_type": "code",
        "colab": {}
      },
      "source": [
        "from sklearn import preprocessing"
      ],
      "execution_count": 40,
      "outputs": []
    },
    {
      "cell_type": "code",
      "metadata": {
        "id": "VO8GZN9ZDA4b",
        "colab_type": "code",
        "colab": {}
      },
      "source": [
        "minmaxscaler=preprocessing.MinMaxScaler()"
      ],
      "execution_count": 41,
      "outputs": []
    },
    {
      "cell_type": "code",
      "metadata": {
        "id": "PzmBw_3BDLE3",
        "colab_type": "code",
        "colab": {
          "base_uri": "https://localhost:8080/",
          "height": 238
        },
        "outputId": "ff88cbf6-8a16-430f-a8d0-b2cb855964a4"
      },
      "source": [
        "x=minmaxscaler.fit_transform(x)\n",
        "x"
      ],
      "execution_count": 42,
      "outputs": [
        {
          "output_type": "execute_result",
          "data": {
            "text/plain": [
              "array([[0.27586207, 0.77586207, 0.        , 0.        , 1.        ,\n",
              "        0.66666667],\n",
              "       [0.75862069, 0.81034483, 0.5       , 0.        , 0.5       ,\n",
              "        0.66666667],\n",
              "       [1.        , 1.        , 0.5       , 0.        , 0.5       ,\n",
              "        0.        ],\n",
              "       ...,\n",
              "       [0.4137931 , 0.21264368, 1.        , 0.        , 0.5       ,\n",
              "        0.33333333],\n",
              "       [0.82758621, 0.79885057, 0.        , 1.        , 0.        ,\n",
              "        0.33333333],\n",
              "       [0.65517241, 0.93678161, 0.5       , 1.        , 1.        ,\n",
              "        0.66666667]])"
            ]
          },
          "metadata": {
            "tags": []
          },
          "execution_count": 42
        }
      ]
    },
    {
      "cell_type": "markdown",
      "metadata": {
        "id": "EcSr8TAZNSTZ",
        "colab_type": "text"
      },
      "source": [
        "# Training and spliting"
      ]
    },
    {
      "cell_type": "code",
      "metadata": {
        "id": "GKaMWjdIJf5e",
        "colab_type": "code",
        "colab": {}
      },
      "source": [
        "from sklearn.model_selection import train_test_split"
      ],
      "execution_count": 43,
      "outputs": []
    },
    {
      "cell_type": "code",
      "metadata": {
        "id": "Ly9s1eClQiyv",
        "colab_type": "code",
        "colab": {}
      },
      "source": [
        "x_train,x_test,y_train,y_test=train_test_split(x,y,test_size=0.3,random_state=1)"
      ],
      "execution_count": 44,
      "outputs": []
    },
    {
      "cell_type": "markdown",
      "metadata": {
        "id": "tR9D63EcNhuk",
        "colab_type": "text"
      },
      "source": [
        "# Fitting Regression Algorithm"
      ]
    },
    {
      "cell_type": "code",
      "metadata": {
        "id": "3cbAz6kbUJcU",
        "colab_type": "code",
        "colab": {}
      },
      "source": [
        "from sklearn.linear_model import LogisticRegression"
      ],
      "execution_count": 45,
      "outputs": []
    },
    {
      "cell_type": "code",
      "metadata": {
        "id": "OaOqWso4WmFh",
        "colab_type": "code",
        "colab": {}
      },
      "source": [
        "lr=LogisticRegression()"
      ],
      "execution_count": 46,
      "outputs": []
    },
    {
      "cell_type": "code",
      "metadata": {
        "id": "aKZOBFIXWqO7",
        "colab_type": "code",
        "colab": {
          "base_uri": "https://localhost:8080/",
          "height": 102
        },
        "outputId": "7ff31362-e774-494b-b2d8-c860055f5e72"
      },
      "source": [
        "lr.fit(x_train,y_train)"
      ],
      "execution_count": 47,
      "outputs": [
        {
          "output_type": "execute_result",
          "data": {
            "text/plain": [
              "LogisticRegression(C=1.0, class_weight=None, dual=False, fit_intercept=True,\n",
              "                   intercept_scaling=1, l1_ratio=None, max_iter=100,\n",
              "                   multi_class='auto', n_jobs=None, penalty='l2',\n",
              "                   random_state=None, solver='lbfgs', tol=0.0001, verbose=0,\n",
              "                   warm_start=False)"
            ]
          },
          "metadata": {
            "tags": []
          },
          "execution_count": 47
        }
      ]
    },
    {
      "cell_type": "code",
      "metadata": {
        "id": "Hfj5AduqWyMN",
        "colab_type": "code",
        "colab": {
          "base_uri": "https://localhost:8080/",
          "height": 119
        },
        "outputId": "91f69b3b-7323-476b-91c0-c1fe02cc9185"
      },
      "source": [
        "y_pred=lr.predict(x_test)\n",
        "y_pred"
      ],
      "execution_count": 48,
      "outputs": [
        {
          "output_type": "execute_result",
          "data": {
            "text/plain": [
              "array([0, 0, 0, 0, 0, 0, 0, 0, 1, 0, 0, 0, 0, 0, 0, 0, 0, 0, 0, 0, 0, 0,\n",
              "       0, 0, 0, 1, 0, 0, 0, 1, 0, 0, 1, 0, 0, 0, 0, 0, 0, 0, 0, 1, 0, 0,\n",
              "       0, 0, 0, 0, 0, 0, 0, 0, 0, 0, 0, 0, 0, 0, 0, 1, 0, 0, 1, 0, 0, 0,\n",
              "       1, 0, 0, 0, 0, 0, 0, 0, 0, 0, 0, 0, 0, 0, 0, 0, 0, 0, 0, 0, 0, 0,\n",
              "       1, 0, 0, 0, 0, 0, 0, 0, 0, 0, 0, 0, 0, 0, 0, 0, 1, 0, 0, 0, 0, 0,\n",
              "       0, 0, 0, 0, 0, 1, 0, 0, 0, 0])"
            ]
          },
          "metadata": {
            "tags": []
          },
          "execution_count": 48
        }
      ]
    },
    {
      "cell_type": "markdown",
      "metadata": {
        "id": "bOQCNPDsNtbe",
        "colab_type": "text"
      },
      "source": [
        "# Checking accuracy"
      ]
    },
    {
      "cell_type": "code",
      "metadata": {
        "id": "UytdZCl2XDyQ",
        "colab_type": "code",
        "colab": {}
      },
      "source": [
        "from sklearn import metrics"
      ],
      "execution_count": 49,
      "outputs": []
    },
    {
      "cell_type": "code",
      "metadata": {
        "id": "osEtKoLSXuXV",
        "colab_type": "code",
        "colab": {
          "base_uri": "https://localhost:8080/",
          "height": 34
        },
        "outputId": "58fa74a6-f815-4efb-bb18-d056c713c883"
      },
      "source": [
        "metrics.accuracy_score(y_test,y_pred)"
      ],
      "execution_count": 50,
      "outputs": [
        {
          "output_type": "execute_result",
          "data": {
            "text/plain": [
              "0.725"
            ]
          },
          "metadata": {
            "tags": []
          },
          "execution_count": 50
        }
      ]
    },
    {
      "cell_type": "markdown",
      "metadata": {
        "id": "tkCqAg1GN1ca",
        "colab_type": "text"
      },
      "source": [
        "# Fitting classification"
      ]
    },
    {
      "cell_type": "code",
      "metadata": {
        "id": "D5mVeKCFX2vQ",
        "colab_type": "code",
        "colab": {}
      },
      "source": [
        "from sklearn.ensemble import RandomForestClassifier"
      ],
      "execution_count": 51,
      "outputs": []
    },
    {
      "cell_type": "code",
      "metadata": {
        "id": "IfFjJlN1X9dm",
        "colab_type": "code",
        "colab": {}
      },
      "source": [
        "rf=RandomForestClassifier()"
      ],
      "execution_count": 52,
      "outputs": []
    },
    {
      "cell_type": "code",
      "metadata": {
        "id": "oQsPUpNpYAaV",
        "colab_type": "code",
        "colab": {
          "base_uri": "https://localhost:8080/",
          "height": 153
        },
        "outputId": "1a3b0e21-356e-4e22-d9c6-58863cdf8b97"
      },
      "source": [
        "rf.fit(x_train,y_train)"
      ],
      "execution_count": 53,
      "outputs": [
        {
          "output_type": "execute_result",
          "data": {
            "text/plain": [
              "RandomForestClassifier(bootstrap=True, ccp_alpha=0.0, class_weight=None,\n",
              "                       criterion='gini', max_depth=None, max_features='auto',\n",
              "                       max_leaf_nodes=None, max_samples=None,\n",
              "                       min_impurity_decrease=0.0, min_impurity_split=None,\n",
              "                       min_samples_leaf=1, min_samples_split=2,\n",
              "                       min_weight_fraction_leaf=0.0, n_estimators=100,\n",
              "                       n_jobs=None, oob_score=False, random_state=None,\n",
              "                       verbose=0, warm_start=False)"
            ]
          },
          "metadata": {
            "tags": []
          },
          "execution_count": 53
        }
      ]
    },
    {
      "cell_type": "code",
      "metadata": {
        "id": "97rOBtJXYE6w",
        "colab_type": "code",
        "colab": {
          "base_uri": "https://localhost:8080/",
          "height": 119
        },
        "outputId": "e857043e-893d-45bf-956a-f1e080530441"
      },
      "source": [
        "y_pred1=rf.predict(x_test)\n",
        "y_pred1"
      ],
      "execution_count": 54,
      "outputs": [
        {
          "output_type": "execute_result",
          "data": {
            "text/plain": [
              "array([0, 0, 0, 0, 0, 0, 0, 1, 1, 0, 0, 0, 0, 0, 1, 0, 0, 1, 0, 0, 0, 0,\n",
              "       0, 0, 0, 0, 0, 0, 1, 1, 0, 0, 0, 0, 0, 0, 0, 0, 0, 1, 1, 0, 0, 0,\n",
              "       0, 0, 0, 0, 0, 0, 0, 0, 0, 0, 0, 0, 0, 0, 1, 1, 0, 0, 1, 0, 1, 0,\n",
              "       0, 1, 0, 0, 0, 0, 1, 0, 0, 0, 0, 0, 0, 1, 0, 0, 0, 0, 0, 0, 1, 0,\n",
              "       1, 0, 0, 1, 0, 1, 1, 0, 0, 0, 0, 0, 0, 0, 0, 0, 1, 1, 1, 0, 0, 0,\n",
              "       0, 1, 0, 0, 0, 1, 0, 0, 0, 1])"
            ]
          },
          "metadata": {
            "tags": []
          },
          "execution_count": 54
        }
      ]
    },
    {
      "cell_type": "markdown",
      "metadata": {
        "id": "j1i3P9hgOA_O",
        "colab_type": "text"
      },
      "source": [
        "# Checking accuracy"
      ]
    },
    {
      "cell_type": "code",
      "metadata": {
        "id": "wya6PbDUYTCD",
        "colab_type": "code",
        "colab": {
          "base_uri": "https://localhost:8080/",
          "height": 34
        },
        "outputId": "90917e96-9d30-4a2d-d05d-282fd6c138e8"
      },
      "source": [
        "metrics.accuracy_score(y_test,y_pred1)"
      ],
      "execution_count": 55,
      "outputs": [
        {
          "output_type": "execute_result",
          "data": {
            "text/plain": [
              "0.7166666666666667"
            ]
          },
          "metadata": {
            "tags": []
          },
          "execution_count": 55
        }
      ]
    }
  ]
}